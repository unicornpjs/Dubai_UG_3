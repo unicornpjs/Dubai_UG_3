{
  "nbformat": 4,
  "nbformat_minor": 0,
  "metadata": {
    "colab": {
      "provenance": [],
      "authorship_tag": "ABX9TyNY8NU4zhJV53Lx2oxEOL+f",
      "include_colab_link": true
    },
    "kernelspec": {
      "name": "python3",
      "display_name": "Python 3"
    },
    "language_info": {
      "name": "python"
    }
  },
  "cells": [
    {
      "cell_type": "markdown",
      "metadata": {
        "id": "view-in-github",
        "colab_type": "text"
      },
      "source": [
        "<a href=\"https://colab.research.google.com/github/unicornpjs/Dubai_UG_3/blob/main/DMML_LAB_1.ipynb\" target=\"_parent\"><img src=\"https://colab.research.google.com/assets/colab-badge.svg\" alt=\"Open In Colab\"/></a>"
      ]
    },
    {
      "cell_type": "markdown",
      "source": [
        "EXPLORING 3 DATA SETS FOR DIFFERENT APPLICATIONS:\n",
        "\n",
        "DECIDED TO RESEARCH ABOUT THE FOLLOWING THREE APPLICATIONS AND LOOK FOR THE DATA SETS FOR EACH :\n",
        "\n",
        "1.  Email spam classifications  \n",
        "\n",
        "Objective : make it easier for users to avoid spam emails\n",
        "\n",
        "Data Sets :\n",
        "https://huggingface.co/datasets/TrainingDataPro/email-spam-classification\n",
        "https://www.kaggle.com/datasets/hudairr/email-spam-detection-dataset\n",
        "https://medium.com/@azimkhan8018/email-spam-detection-with-machine-learning-a-comprehensive-guide-b65c6936678b\n",
        "\n",
        "Description and Conclusions:\n",
        "We discussed to create a model to detect the spam emails recieved by a user. We looked into the above three data sets. We looked into the datasets and discussed with Ms.Hend and realized not to go forward with this application since we dont get to experince in working on image based datasets.\n",
        "\n",
        "\n",
        "2.  Hurricane or Typhoons or Flooding Detection and Prediction\n",
        "\n",
        "Objective : identify the timing and cost of damage that it can cause for rebuilding after the damage // (Joseph’s edit): Identify when a disaster is forming and be able to allow for the system to send a warning system to nearby places and track the dis\n",
        "\n",
        "Data Sets:\n",
        "https://www.kaggle.com/datasets/noaa/hurricane-database\n",
        "https://www.kaggle.com/datasets/mikolajbabula/disaster-images-dataset-cnn-model\n",
        "https://www.kaggle.com/datasets/headsortails/us-natural-disaster-declarations\n",
        "\n",
        "Description and Conclusions:\n",
        "The initial idea was to make a model that detects and predicts the formation of natural disasters. When discussed with Ms.Hend we finalized to go forward with this idea and also decided to use the image dataset of hurricance before and after pics and analyze the destruction hurricanes can cause. Thus, this application was the most suitable and agreed upon by everyone in the group.\n",
        "\n",
        "3.  Vehicle License Identification  \n",
        "\n",
        "Objective: categorize vehicle license based on category , number , colour forData Sets:\n",
        "https://www.kaggle.com/datasets/sheezawaheed/number-plate-dataset-of-uae-5-emirates/data\n",
        "\n",
        "https://universe.roboflow.com/label-11-qi1do/uae-car-wtiyo/dataset/5\n",
        "\n",
        "https://universe.roboflow.com/zara-hara/car-plate-k6xi\n",
        "\n",
        "Description and Conclusions:\n",
        "The idea presented was to use the image dataset of vehicles with UAE number license plate to detect the vehicles licence number for fines. But when discussed the idea with Ms.Hend we realized there is not many available datasets we can use for it. Hence, we didnt choose this application."
      ],
      "metadata": {
        "id": "r06xXaz3AmIG"
      }
    },
    {
      "cell_type": "markdown",
      "source": [],
      "metadata": {
        "id": "PvlJKhCkDe9z"
      }
    }
  ]
}